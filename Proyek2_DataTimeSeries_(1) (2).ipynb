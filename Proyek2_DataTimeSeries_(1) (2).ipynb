{
  "nbformat": 4,
  "nbformat_minor": 0,
  "metadata": {
    "colab": {
      "provenance": []
    },
    "kernelspec": {
      "name": "python3",
      "display_name": "Python 3"
    },
    "language_info": {
      "name": "python"
    },
    "accelerator": "TPU"
  },
  "cells": [
    {
      "cell_type": "markdown",
      "source": [
        "# Mendownload Dataset dan Import library"
      ],
      "metadata": {
        "id": "xoIrjNvqCTzM"
      }
    },
    {
      "cell_type": "markdown",
      "source": [
        "## Menginstall Package"
      ],
      "metadata": {
        "id": "Hafs8feoFBVk"
      }
    },
    {
      "cell_type": "code",
      "execution_count": 1,
      "metadata": {
        "id": "xhEL9bRB0HrK"
      },
      "outputs": [],
      "source": [
        "!pip install -q kaggle"
      ]
    },
    {
      "cell_type": "code",
      "source": [
        "import numpy as np\n",
        "import pandas as pd\n",
        "from keras.layers import Dense, LSTM\n",
        "import matplotlib.pyplot as plt\n",
        "import tensorflow as tf\n",
        "from google.colab import files\n",
        "import tensorflow as tf\n",
        "import numpy as np\n",
        "from tensorflow.keras.models import Sequential\n",
        "from tensorflow.keras.layers import Dense, LSTM, Bidirectional, Dropout\n",
        "from tensorflow.keras.callbacks import EarlyStopping\n",
        "from sklearn.preprocessing import MinMaxScaler"
      ],
      "metadata": {
        "id": "cdi0mt_cMFOU"
      },
      "execution_count": 2,
      "outputs": []
    },
    {
      "cell_type": "code",
      "source": [
        "files.upload()"
      ],
      "metadata": {
        "colab": {
          "base_uri": "https://localhost:8080/",
          "height": 91
        },
        "id": "PE8J16AH0oWt",
        "outputId": "9543f30c-b862-462b-ff56-a5176bc8c09f"
      },
      "execution_count": 3,
      "outputs": [
        {
          "output_type": "display_data",
          "data": {
            "text/plain": [
              "<IPython.core.display.HTML object>"
            ],
            "text/html": [
              "\n",
              "     <input type=\"file\" id=\"files-69887fe4-cff7-4362-892c-d93088e163a5\" name=\"files[]\" multiple disabled\n",
              "        style=\"border:none\" />\n",
              "     <output id=\"result-69887fe4-cff7-4362-892c-d93088e163a5\">\n",
              "      Upload widget is only available when the cell has been executed in the\n",
              "      current browser session. Please rerun this cell to enable.\n",
              "      </output>\n",
              "      <script>// Copyright 2017 Google LLC\n",
              "//\n",
              "// Licensed under the Apache License, Version 2.0 (the \"License\");\n",
              "// you may not use this file except in compliance with the License.\n",
              "// You may obtain a copy of the License at\n",
              "//\n",
              "//      http://www.apache.org/licenses/LICENSE-2.0\n",
              "//\n",
              "// Unless required by applicable law or agreed to in writing, software\n",
              "// distributed under the License is distributed on an \"AS IS\" BASIS,\n",
              "// WITHOUT WARRANTIES OR CONDITIONS OF ANY KIND, either express or implied.\n",
              "// See the License for the specific language governing permissions and\n",
              "// limitations under the License.\n",
              "\n",
              "/**\n",
              " * @fileoverview Helpers for google.colab Python module.\n",
              " */\n",
              "(function(scope) {\n",
              "function span(text, styleAttributes = {}) {\n",
              "  const element = document.createElement('span');\n",
              "  element.textContent = text;\n",
              "  for (const key of Object.keys(styleAttributes)) {\n",
              "    element.style[key] = styleAttributes[key];\n",
              "  }\n",
              "  return element;\n",
              "}\n",
              "\n",
              "// Max number of bytes which will be uploaded at a time.\n",
              "const MAX_PAYLOAD_SIZE = 100 * 1024;\n",
              "\n",
              "function _uploadFiles(inputId, outputId) {\n",
              "  const steps = uploadFilesStep(inputId, outputId);\n",
              "  const outputElement = document.getElementById(outputId);\n",
              "  // Cache steps on the outputElement to make it available for the next call\n",
              "  // to uploadFilesContinue from Python.\n",
              "  outputElement.steps = steps;\n",
              "\n",
              "  return _uploadFilesContinue(outputId);\n",
              "}\n",
              "\n",
              "// This is roughly an async generator (not supported in the browser yet),\n",
              "// where there are multiple asynchronous steps and the Python side is going\n",
              "// to poll for completion of each step.\n",
              "// This uses a Promise to block the python side on completion of each step,\n",
              "// then passes the result of the previous step as the input to the next step.\n",
              "function _uploadFilesContinue(outputId) {\n",
              "  const outputElement = document.getElementById(outputId);\n",
              "  const steps = outputElement.steps;\n",
              "\n",
              "  const next = steps.next(outputElement.lastPromiseValue);\n",
              "  return Promise.resolve(next.value.promise).then((value) => {\n",
              "    // Cache the last promise value to make it available to the next\n",
              "    // step of the generator.\n",
              "    outputElement.lastPromiseValue = value;\n",
              "    return next.value.response;\n",
              "  });\n",
              "}\n",
              "\n",
              "/**\n",
              " * Generator function which is called between each async step of the upload\n",
              " * process.\n",
              " * @param {string} inputId Element ID of the input file picker element.\n",
              " * @param {string} outputId Element ID of the output display.\n",
              " * @return {!Iterable<!Object>} Iterable of next steps.\n",
              " */\n",
              "function* uploadFilesStep(inputId, outputId) {\n",
              "  const inputElement = document.getElementById(inputId);\n",
              "  inputElement.disabled = false;\n",
              "\n",
              "  const outputElement = document.getElementById(outputId);\n",
              "  outputElement.innerHTML = '';\n",
              "\n",
              "  const pickedPromise = new Promise((resolve) => {\n",
              "    inputElement.addEventListener('change', (e) => {\n",
              "      resolve(e.target.files);\n",
              "    });\n",
              "  });\n",
              "\n",
              "  const cancel = document.createElement('button');\n",
              "  inputElement.parentElement.appendChild(cancel);\n",
              "  cancel.textContent = 'Cancel upload';\n",
              "  const cancelPromise = new Promise((resolve) => {\n",
              "    cancel.onclick = () => {\n",
              "      resolve(null);\n",
              "    };\n",
              "  });\n",
              "\n",
              "  // Wait for the user to pick the files.\n",
              "  const files = yield {\n",
              "    promise: Promise.race([pickedPromise, cancelPromise]),\n",
              "    response: {\n",
              "      action: 'starting',\n",
              "    }\n",
              "  };\n",
              "\n",
              "  cancel.remove();\n",
              "\n",
              "  // Disable the input element since further picks are not allowed.\n",
              "  inputElement.disabled = true;\n",
              "\n",
              "  if (!files) {\n",
              "    return {\n",
              "      response: {\n",
              "        action: 'complete',\n",
              "      }\n",
              "    };\n",
              "  }\n",
              "\n",
              "  for (const file of files) {\n",
              "    const li = document.createElement('li');\n",
              "    li.append(span(file.name, {fontWeight: 'bold'}));\n",
              "    li.append(span(\n",
              "        `(${file.type || 'n/a'}) - ${file.size} bytes, ` +\n",
              "        `last modified: ${\n",
              "            file.lastModifiedDate ? file.lastModifiedDate.toLocaleDateString() :\n",
              "                                    'n/a'} - `));\n",
              "    const percent = span('0% done');\n",
              "    li.appendChild(percent);\n",
              "\n",
              "    outputElement.appendChild(li);\n",
              "\n",
              "    const fileDataPromise = new Promise((resolve) => {\n",
              "      const reader = new FileReader();\n",
              "      reader.onload = (e) => {\n",
              "        resolve(e.target.result);\n",
              "      };\n",
              "      reader.readAsArrayBuffer(file);\n",
              "    });\n",
              "    // Wait for the data to be ready.\n",
              "    let fileData = yield {\n",
              "      promise: fileDataPromise,\n",
              "      response: {\n",
              "        action: 'continue',\n",
              "      }\n",
              "    };\n",
              "\n",
              "    // Use a chunked sending to avoid message size limits. See b/62115660.\n",
              "    let position = 0;\n",
              "    do {\n",
              "      const length = Math.min(fileData.byteLength - position, MAX_PAYLOAD_SIZE);\n",
              "      const chunk = new Uint8Array(fileData, position, length);\n",
              "      position += length;\n",
              "\n",
              "      const base64 = btoa(String.fromCharCode.apply(null, chunk));\n",
              "      yield {\n",
              "        response: {\n",
              "          action: 'append',\n",
              "          file: file.name,\n",
              "          data: base64,\n",
              "        },\n",
              "      };\n",
              "\n",
              "      let percentDone = fileData.byteLength === 0 ?\n",
              "          100 :\n",
              "          Math.round((position / fileData.byteLength) * 100);\n",
              "      percent.textContent = `${percentDone}% done`;\n",
              "\n",
              "    } while (position < fileData.byteLength);\n",
              "  }\n",
              "\n",
              "  // All done.\n",
              "  yield {\n",
              "    response: {\n",
              "      action: 'complete',\n",
              "    }\n",
              "  };\n",
              "}\n",
              "\n",
              "scope.google = scope.google || {};\n",
              "scope.google.colab = scope.google.colab || {};\n",
              "scope.google.colab._files = {\n",
              "  _uploadFiles,\n",
              "  _uploadFilesContinue,\n",
              "};\n",
              "})(self);\n",
              "</script> "
            ]
          },
          "metadata": {}
        },
        {
          "output_type": "stream",
          "name": "stdout",
          "text": [
            "Saving kaggle.json to kaggle.json\n"
          ]
        },
        {
          "output_type": "execute_result",
          "data": {
            "text/plain": [
              "{'kaggle.json': b'{\"username\":\"varenzowie\",\"key\":\"c3008a5e87b883ba27775cd6d5071f74\"}'}"
            ]
          },
          "metadata": {},
          "execution_count": 3
        }
      ]
    },
    {
      "cell_type": "code",
      "source": [
        "!mkdir -p ~/.kaggle\n",
        "!cp kaggle.json ~/.kaggle/\n",
        "!chmod 600 ~/.kaggle/kaggle.json\n",
        "!ls ~/.kaggle"
      ],
      "metadata": {
        "colab": {
          "base_uri": "https://localhost:8080/"
        },
        "id": "CAyxkl6Z11mx",
        "outputId": "56a3ccdd-f986-4a9e-f3d1-a789965848f0"
      },
      "execution_count": 4,
      "outputs": [
        {
          "output_type": "stream",
          "name": "stdout",
          "text": [
            "kaggle.json\n"
          ]
        }
      ]
    },
    {
      "cell_type": "code",
      "source": [
        "!kaggle datasets download -d mateuszk013/warsaw-daily-weather"
      ],
      "metadata": {
        "colab": {
          "base_uri": "https://localhost:8080/"
        },
        "id": "P60ekPu113jd",
        "outputId": "12cc19b3-5fe2-41e0-fd32-949d53876d57"
      },
      "execution_count": 5,
      "outputs": [
        {
          "output_type": "stream",
          "name": "stdout",
          "text": [
            "Downloading warsaw-daily-weather.zip to /content\n",
            "\r  0% 0.00/101k [00:00<?, ?B/s]\n",
            "\r100% 101k/101k [00:00<00:00, 55.6MB/s]\n"
          ]
        }
      ]
    },
    {
      "cell_type": "markdown",
      "source": [
        "## Pembuatan direktori dan unzip file"
      ],
      "metadata": {
        "id": "CXRQ5OfFFKO5"
      }
    },
    {
      "cell_type": "code",
      "source": [
        "!warsaw-daily-weather\n",
        "!unzip warsaw-daily-weather.zip -d warsaw-daily-weather\n",
        "!ls warsaw-daily-weather"
      ],
      "metadata": {
        "colab": {
          "base_uri": "https://localhost:8080/"
        },
        "id": "vz-NK6i22Wt9",
        "outputId": "38ac57e8-8935-4876-ef95-48f4c37e5191"
      },
      "execution_count": 6,
      "outputs": [
        {
          "output_type": "stream",
          "name": "stdout",
          "text": [
            "/bin/bash: line 1: warsaw-daily-weather: command not found\n",
            "Archive:  warsaw-daily-weather.zip\n",
            "  inflating: warsaw-daily-weather/warsaw.csv  \n",
            "warsaw.csv\n"
          ]
        }
      ]
    },
    {
      "cell_type": "code",
      "source": [
        "df = pd.read_csv('warsaw-daily-weather/warsaw.csv')"
      ],
      "metadata": {
        "id": "gcvz_QaQ6bLQ"
      },
      "execution_count": 7,
      "outputs": []
    },
    {
      "cell_type": "markdown",
      "source": [
        "# Proses Data Cleaning"
      ],
      "metadata": {
        "id": "7k5PdVR8FSKi"
      }
    },
    {
      "cell_type": "code",
      "source": [
        "#Menampilkan isi dari dataset\n",
        "df"
      ],
      "metadata": {
        "colab": {
          "base_uri": "https://localhost:8080/",
          "height": 423
        },
        "id": "fjpGRdKaMLen",
        "outputId": "be9d3357-b4a2-49a9-bf44-5f7bf9bf6d15"
      },
      "execution_count": 8,
      "outputs": [
        {
          "output_type": "execute_result",
          "data": {
            "text/plain": [
              "           STATION        NAME  LATITUDE  LONGITUDE  ELEVATION        DATE  \\\n",
              "0      PLM00012375  OKECIE, PL    52.166     20.967      110.3  1993-01-01   \n",
              "1      PLM00012375  OKECIE, PL    52.166     20.967      110.3  1993-01-02   \n",
              "2      PLM00012375  OKECIE, PL    52.166     20.967      110.3  1993-01-03   \n",
              "3      PLM00012375  OKECIE, PL    52.166     20.967      110.3  1993-01-04   \n",
              "4      PLM00012375  OKECIE, PL    52.166     20.967      110.3  1993-01-05   \n",
              "...            ...         ...       ...        ...        ...         ...   \n",
              "10949  PLM00012375  OKECIE, PL    52.166     20.967      110.3  2022-12-27   \n",
              "10950  PLM00012375  OKECIE, PL    52.166     20.967      110.3  2022-12-28   \n",
              "10951  PLM00012375  OKECIE, PL    52.166     20.967      110.3  2022-12-29   \n",
              "10952  PLM00012375  OKECIE, PL    52.166     20.967      110.3  2022-12-30   \n",
              "10953  PLM00012375  OKECIE, PL    52.166     20.967      110.3  2022-12-31   \n",
              "\n",
              "       PRCP  SNWD  TAVG  TMAX  TMIN  \n",
              "0       0.0  10.0  -8.3   NaN   NaN  \n",
              "1       NaN  10.0 -14.9   NaN   NaN  \n",
              "2       0.0  10.0 -13.6  -9.7   NaN  \n",
              "3       0.0  10.0 -10.5  -6.5 -13.3  \n",
              "4       0.0  10.0 -12.0  -8.9 -14.1  \n",
              "...     ...   ...   ...   ...   ...  \n",
              "10949   8.4   NaN   4.7   9.4   2.7  \n",
              "10950   0.0   NaN   3.3   NaN   NaN  \n",
              "10951   0.5   NaN   6.8   NaN   3.7  \n",
              "10952   0.0   NaN   6.1   9.2   NaN  \n",
              "10953   NaN   NaN   9.4   NaN   0.3  \n",
              "\n",
              "[10954 rows x 11 columns]"
            ],
            "text/html": [
              "\n",
              "  <div id=\"df-ad7a3b3d-7881-4dd5-823d-64cc968e55a6\" class=\"colab-df-container\">\n",
              "    <div>\n",
              "<style scoped>\n",
              "    .dataframe tbody tr th:only-of-type {\n",
              "        vertical-align: middle;\n",
              "    }\n",
              "\n",
              "    .dataframe tbody tr th {\n",
              "        vertical-align: top;\n",
              "    }\n",
              "\n",
              "    .dataframe thead th {\n",
              "        text-align: right;\n",
              "    }\n",
              "</style>\n",
              "<table border=\"1\" class=\"dataframe\">\n",
              "  <thead>\n",
              "    <tr style=\"text-align: right;\">\n",
              "      <th></th>\n",
              "      <th>STATION</th>\n",
              "      <th>NAME</th>\n",
              "      <th>LATITUDE</th>\n",
              "      <th>LONGITUDE</th>\n",
              "      <th>ELEVATION</th>\n",
              "      <th>DATE</th>\n",
              "      <th>PRCP</th>\n",
              "      <th>SNWD</th>\n",
              "      <th>TAVG</th>\n",
              "      <th>TMAX</th>\n",
              "      <th>TMIN</th>\n",
              "    </tr>\n",
              "  </thead>\n",
              "  <tbody>\n",
              "    <tr>\n",
              "      <th>0</th>\n",
              "      <td>PLM00012375</td>\n",
              "      <td>OKECIE, PL</td>\n",
              "      <td>52.166</td>\n",
              "      <td>20.967</td>\n",
              "      <td>110.3</td>\n",
              "      <td>1993-01-01</td>\n",
              "      <td>0.0</td>\n",
              "      <td>10.0</td>\n",
              "      <td>-8.3</td>\n",
              "      <td>NaN</td>\n",
              "      <td>NaN</td>\n",
              "    </tr>\n",
              "    <tr>\n",
              "      <th>1</th>\n",
              "      <td>PLM00012375</td>\n",
              "      <td>OKECIE, PL</td>\n",
              "      <td>52.166</td>\n",
              "      <td>20.967</td>\n",
              "      <td>110.3</td>\n",
              "      <td>1993-01-02</td>\n",
              "      <td>NaN</td>\n",
              "      <td>10.0</td>\n",
              "      <td>-14.9</td>\n",
              "      <td>NaN</td>\n",
              "      <td>NaN</td>\n",
              "    </tr>\n",
              "    <tr>\n",
              "      <th>2</th>\n",
              "      <td>PLM00012375</td>\n",
              "      <td>OKECIE, PL</td>\n",
              "      <td>52.166</td>\n",
              "      <td>20.967</td>\n",
              "      <td>110.3</td>\n",
              "      <td>1993-01-03</td>\n",
              "      <td>0.0</td>\n",
              "      <td>10.0</td>\n",
              "      <td>-13.6</td>\n",
              "      <td>-9.7</td>\n",
              "      <td>NaN</td>\n",
              "    </tr>\n",
              "    <tr>\n",
              "      <th>3</th>\n",
              "      <td>PLM00012375</td>\n",
              "      <td>OKECIE, PL</td>\n",
              "      <td>52.166</td>\n",
              "      <td>20.967</td>\n",
              "      <td>110.3</td>\n",
              "      <td>1993-01-04</td>\n",
              "      <td>0.0</td>\n",
              "      <td>10.0</td>\n",
              "      <td>-10.5</td>\n",
              "      <td>-6.5</td>\n",
              "      <td>-13.3</td>\n",
              "    </tr>\n",
              "    <tr>\n",
              "      <th>4</th>\n",
              "      <td>PLM00012375</td>\n",
              "      <td>OKECIE, PL</td>\n",
              "      <td>52.166</td>\n",
              "      <td>20.967</td>\n",
              "      <td>110.3</td>\n",
              "      <td>1993-01-05</td>\n",
              "      <td>0.0</td>\n",
              "      <td>10.0</td>\n",
              "      <td>-12.0</td>\n",
              "      <td>-8.9</td>\n",
              "      <td>-14.1</td>\n",
              "    </tr>\n",
              "    <tr>\n",
              "      <th>...</th>\n",
              "      <td>...</td>\n",
              "      <td>...</td>\n",
              "      <td>...</td>\n",
              "      <td>...</td>\n",
              "      <td>...</td>\n",
              "      <td>...</td>\n",
              "      <td>...</td>\n",
              "      <td>...</td>\n",
              "      <td>...</td>\n",
              "      <td>...</td>\n",
              "      <td>...</td>\n",
              "    </tr>\n",
              "    <tr>\n",
              "      <th>10949</th>\n",
              "      <td>PLM00012375</td>\n",
              "      <td>OKECIE, PL</td>\n",
              "      <td>52.166</td>\n",
              "      <td>20.967</td>\n",
              "      <td>110.3</td>\n",
              "      <td>2022-12-27</td>\n",
              "      <td>8.4</td>\n",
              "      <td>NaN</td>\n",
              "      <td>4.7</td>\n",
              "      <td>9.4</td>\n",
              "      <td>2.7</td>\n",
              "    </tr>\n",
              "    <tr>\n",
              "      <th>10950</th>\n",
              "      <td>PLM00012375</td>\n",
              "      <td>OKECIE, PL</td>\n",
              "      <td>52.166</td>\n",
              "      <td>20.967</td>\n",
              "      <td>110.3</td>\n",
              "      <td>2022-12-28</td>\n",
              "      <td>0.0</td>\n",
              "      <td>NaN</td>\n",
              "      <td>3.3</td>\n",
              "      <td>NaN</td>\n",
              "      <td>NaN</td>\n",
              "    </tr>\n",
              "    <tr>\n",
              "      <th>10951</th>\n",
              "      <td>PLM00012375</td>\n",
              "      <td>OKECIE, PL</td>\n",
              "      <td>52.166</td>\n",
              "      <td>20.967</td>\n",
              "      <td>110.3</td>\n",
              "      <td>2022-12-29</td>\n",
              "      <td>0.5</td>\n",
              "      <td>NaN</td>\n",
              "      <td>6.8</td>\n",
              "      <td>NaN</td>\n",
              "      <td>3.7</td>\n",
              "    </tr>\n",
              "    <tr>\n",
              "      <th>10952</th>\n",
              "      <td>PLM00012375</td>\n",
              "      <td>OKECIE, PL</td>\n",
              "      <td>52.166</td>\n",
              "      <td>20.967</td>\n",
              "      <td>110.3</td>\n",
              "      <td>2022-12-30</td>\n",
              "      <td>0.0</td>\n",
              "      <td>NaN</td>\n",
              "      <td>6.1</td>\n",
              "      <td>9.2</td>\n",
              "      <td>NaN</td>\n",
              "    </tr>\n",
              "    <tr>\n",
              "      <th>10953</th>\n",
              "      <td>PLM00012375</td>\n",
              "      <td>OKECIE, PL</td>\n",
              "      <td>52.166</td>\n",
              "      <td>20.967</td>\n",
              "      <td>110.3</td>\n",
              "      <td>2022-12-31</td>\n",
              "      <td>NaN</td>\n",
              "      <td>NaN</td>\n",
              "      <td>9.4</td>\n",
              "      <td>NaN</td>\n",
              "      <td>0.3</td>\n",
              "    </tr>\n",
              "  </tbody>\n",
              "</table>\n",
              "<p>10954 rows × 11 columns</p>\n",
              "</div>\n",
              "    <div class=\"colab-df-buttons\">\n",
              "\n",
              "  <div class=\"colab-df-container\">\n",
              "    <button class=\"colab-df-convert\" onclick=\"convertToInteractive('df-ad7a3b3d-7881-4dd5-823d-64cc968e55a6')\"\n",
              "            title=\"Convert this dataframe to an interactive table.\"\n",
              "            style=\"display:none;\">\n",
              "\n",
              "  <svg xmlns=\"http://www.w3.org/2000/svg\" height=\"24px\" viewBox=\"0 -960 960 960\">\n",
              "    <path d=\"M120-120v-720h720v720H120Zm60-500h600v-160H180v160Zm220 220h160v-160H400v160Zm0 220h160v-160H400v160ZM180-400h160v-160H180v160Zm440 0h160v-160H620v160ZM180-180h160v-160H180v160Zm440 0h160v-160H620v160Z\"/>\n",
              "  </svg>\n",
              "    </button>\n",
              "\n",
              "  <style>\n",
              "    .colab-df-container {\n",
              "      display:flex;\n",
              "      gap: 12px;\n",
              "    }\n",
              "\n",
              "    .colab-df-convert {\n",
              "      background-color: #E8F0FE;\n",
              "      border: none;\n",
              "      border-radius: 50%;\n",
              "      cursor: pointer;\n",
              "      display: none;\n",
              "      fill: #1967D2;\n",
              "      height: 32px;\n",
              "      padding: 0 0 0 0;\n",
              "      width: 32px;\n",
              "    }\n",
              "\n",
              "    .colab-df-convert:hover {\n",
              "      background-color: #E2EBFA;\n",
              "      box-shadow: 0px 1px 2px rgba(60, 64, 67, 0.3), 0px 1px 3px 1px rgba(60, 64, 67, 0.15);\n",
              "      fill: #174EA6;\n",
              "    }\n",
              "\n",
              "    .colab-df-buttons div {\n",
              "      margin-bottom: 4px;\n",
              "    }\n",
              "\n",
              "    [theme=dark] .colab-df-convert {\n",
              "      background-color: #3B4455;\n",
              "      fill: #D2E3FC;\n",
              "    }\n",
              "\n",
              "    [theme=dark] .colab-df-convert:hover {\n",
              "      background-color: #434B5C;\n",
              "      box-shadow: 0px 1px 3px 1px rgba(0, 0, 0, 0.15);\n",
              "      filter: drop-shadow(0px 1px 2px rgba(0, 0, 0, 0.3));\n",
              "      fill: #FFFFFF;\n",
              "    }\n",
              "  </style>\n",
              "\n",
              "    <script>\n",
              "      const buttonEl =\n",
              "        document.querySelector('#df-ad7a3b3d-7881-4dd5-823d-64cc968e55a6 button.colab-df-convert');\n",
              "      buttonEl.style.display =\n",
              "        google.colab.kernel.accessAllowed ? 'block' : 'none';\n",
              "\n",
              "      async function convertToInteractive(key) {\n",
              "        const element = document.querySelector('#df-ad7a3b3d-7881-4dd5-823d-64cc968e55a6');\n",
              "        const dataTable =\n",
              "          await google.colab.kernel.invokeFunction('convertToInteractive',\n",
              "                                                    [key], {});\n",
              "        if (!dataTable) return;\n",
              "\n",
              "        const docLinkHtml = 'Like what you see? Visit the ' +\n",
              "          '<a target=\"_blank\" href=https://colab.research.google.com/notebooks/data_table.ipynb>data table notebook</a>'\n",
              "          + ' to learn more about interactive tables.';\n",
              "        element.innerHTML = '';\n",
              "        dataTable['output_type'] = 'display_data';\n",
              "        await google.colab.output.renderOutput(dataTable, element);\n",
              "        const docLink = document.createElement('div');\n",
              "        docLink.innerHTML = docLinkHtml;\n",
              "        element.appendChild(docLink);\n",
              "      }\n",
              "    </script>\n",
              "  </div>\n",
              "\n",
              "\n",
              "<div id=\"df-9eee973b-4e53-49d1-9369-6f05f5fb1886\">\n",
              "  <button class=\"colab-df-quickchart\" onclick=\"quickchart('df-9eee973b-4e53-49d1-9369-6f05f5fb1886')\"\n",
              "            title=\"Suggest charts\"\n",
              "            style=\"display:none;\">\n",
              "\n",
              "<svg xmlns=\"http://www.w3.org/2000/svg\" height=\"24px\"viewBox=\"0 0 24 24\"\n",
              "     width=\"24px\">\n",
              "    <g>\n",
              "        <path d=\"M19 3H5c-1.1 0-2 .9-2 2v14c0 1.1.9 2 2 2h14c1.1 0 2-.9 2-2V5c0-1.1-.9-2-2-2zM9 17H7v-7h2v7zm4 0h-2V7h2v10zm4 0h-2v-4h2v4z\"/>\n",
              "    </g>\n",
              "</svg>\n",
              "  </button>\n",
              "\n",
              "<style>\n",
              "  .colab-df-quickchart {\n",
              "      --bg-color: #E8F0FE;\n",
              "      --fill-color: #1967D2;\n",
              "      --hover-bg-color: #E2EBFA;\n",
              "      --hover-fill-color: #174EA6;\n",
              "      --disabled-fill-color: #AAA;\n",
              "      --disabled-bg-color: #DDD;\n",
              "  }\n",
              "\n",
              "  [theme=dark] .colab-df-quickchart {\n",
              "      --bg-color: #3B4455;\n",
              "      --fill-color: #D2E3FC;\n",
              "      --hover-bg-color: #434B5C;\n",
              "      --hover-fill-color: #FFFFFF;\n",
              "      --disabled-bg-color: #3B4455;\n",
              "      --disabled-fill-color: #666;\n",
              "  }\n",
              "\n",
              "  .colab-df-quickchart {\n",
              "    background-color: var(--bg-color);\n",
              "    border: none;\n",
              "    border-radius: 50%;\n",
              "    cursor: pointer;\n",
              "    display: none;\n",
              "    fill: var(--fill-color);\n",
              "    height: 32px;\n",
              "    padding: 0;\n",
              "    width: 32px;\n",
              "  }\n",
              "\n",
              "  .colab-df-quickchart:hover {\n",
              "    background-color: var(--hover-bg-color);\n",
              "    box-shadow: 0 1px 2px rgba(60, 64, 67, 0.3), 0 1px 3px 1px rgba(60, 64, 67, 0.15);\n",
              "    fill: var(--button-hover-fill-color);\n",
              "  }\n",
              "\n",
              "  .colab-df-quickchart-complete:disabled,\n",
              "  .colab-df-quickchart-complete:disabled:hover {\n",
              "    background-color: var(--disabled-bg-color);\n",
              "    fill: var(--disabled-fill-color);\n",
              "    box-shadow: none;\n",
              "  }\n",
              "\n",
              "  .colab-df-spinner {\n",
              "    border: 2px solid var(--fill-color);\n",
              "    border-color: transparent;\n",
              "    border-bottom-color: var(--fill-color);\n",
              "    animation:\n",
              "      spin 1s steps(1) infinite;\n",
              "  }\n",
              "\n",
              "  @keyframes spin {\n",
              "    0% {\n",
              "      border-color: transparent;\n",
              "      border-bottom-color: var(--fill-color);\n",
              "      border-left-color: var(--fill-color);\n",
              "    }\n",
              "    20% {\n",
              "      border-color: transparent;\n",
              "      border-left-color: var(--fill-color);\n",
              "      border-top-color: var(--fill-color);\n",
              "    }\n",
              "    30% {\n",
              "      border-color: transparent;\n",
              "      border-left-color: var(--fill-color);\n",
              "      border-top-color: var(--fill-color);\n",
              "      border-right-color: var(--fill-color);\n",
              "    }\n",
              "    40% {\n",
              "      border-color: transparent;\n",
              "      border-right-color: var(--fill-color);\n",
              "      border-top-color: var(--fill-color);\n",
              "    }\n",
              "    60% {\n",
              "      border-color: transparent;\n",
              "      border-right-color: var(--fill-color);\n",
              "    }\n",
              "    80% {\n",
              "      border-color: transparent;\n",
              "      border-right-color: var(--fill-color);\n",
              "      border-bottom-color: var(--fill-color);\n",
              "    }\n",
              "    90% {\n",
              "      border-color: transparent;\n",
              "      border-bottom-color: var(--fill-color);\n",
              "    }\n",
              "  }\n",
              "</style>\n",
              "\n",
              "  <script>\n",
              "    async function quickchart(key) {\n",
              "      const quickchartButtonEl =\n",
              "        document.querySelector('#' + key + ' button');\n",
              "      quickchartButtonEl.disabled = true;  // To prevent multiple clicks.\n",
              "      quickchartButtonEl.classList.add('colab-df-spinner');\n",
              "      try {\n",
              "        const charts = await google.colab.kernel.invokeFunction(\n",
              "            'suggestCharts', [key], {});\n",
              "      } catch (error) {\n",
              "        console.error('Error during call to suggestCharts:', error);\n",
              "      }\n",
              "      quickchartButtonEl.classList.remove('colab-df-spinner');\n",
              "      quickchartButtonEl.classList.add('colab-df-quickchart-complete');\n",
              "    }\n",
              "    (() => {\n",
              "      let quickchartButtonEl =\n",
              "        document.querySelector('#df-9eee973b-4e53-49d1-9369-6f05f5fb1886 button');\n",
              "      quickchartButtonEl.style.display =\n",
              "        google.colab.kernel.accessAllowed ? 'block' : 'none';\n",
              "    })();\n",
              "  </script>\n",
              "</div>\n",
              "    </div>\n",
              "  </div>\n"
            ]
          },
          "metadata": {},
          "execution_count": 8
        }
      ]
    },
    {
      "cell_type": "code",
      "source": [
        "df.info()"
      ],
      "metadata": {
        "colab": {
          "base_uri": "https://localhost:8080/"
        },
        "id": "8ggaIFesk8Vm",
        "outputId": "575730cc-3a73-4df0-86dc-443269444daf"
      },
      "execution_count": 9,
      "outputs": [
        {
          "output_type": "stream",
          "name": "stdout",
          "text": [
            "<class 'pandas.core.frame.DataFrame'>\n",
            "RangeIndex: 10954 entries, 0 to 10953\n",
            "Data columns (total 11 columns):\n",
            " #   Column     Non-Null Count  Dtype  \n",
            "---  ------     --------------  -----  \n",
            " 0   STATION    10954 non-null  object \n",
            " 1   NAME       10954 non-null  object \n",
            " 2   LATITUDE   10954 non-null  float64\n",
            " 3   LONGITUDE  10954 non-null  float64\n",
            " 4   ELEVATION  10954 non-null  float64\n",
            " 5   DATE       10954 non-null  object \n",
            " 6   PRCP       9158 non-null   float64\n",
            " 7   SNWD       1423 non-null   float64\n",
            " 8   TAVG       10954 non-null  float64\n",
            " 9   TMAX       7463 non-null   float64\n",
            " 10  TMIN       5870 non-null   float64\n",
            "dtypes: float64(8), object(3)\n",
            "memory usage: 941.5+ KB\n"
          ]
        }
      ]
    },
    {
      "cell_type": "markdown",
      "source": [
        "Disini saya hanya menggunakan TAVG yang adalah Average Temperature menjadi model pembelajaran machine learning saya."
      ],
      "metadata": {
        "id": "yr7kSW3YpYmo"
      }
    },
    {
      "cell_type": "code",
      "source": [
        "df_baru = df[[\"DATE\", \"TAVG\"]]\n",
        "df_baru = df_baru.copy()\n",
        "df_baru['DATE'] = pd.to_datetime(df_baru['DATE'])"
      ],
      "metadata": {
        "id": "sC31nR_KqIei"
      },
      "execution_count": 10,
      "outputs": []
    },
    {
      "cell_type": "code",
      "source": [
        "df_baru.info()"
      ],
      "metadata": {
        "colab": {
          "base_uri": "https://localhost:8080/"
        },
        "id": "uM2Tn-PwMmjF",
        "outputId": "19e3bc0e-694d-497a-f64e-cfff7aeb1293"
      },
      "execution_count": 11,
      "outputs": [
        {
          "output_type": "stream",
          "name": "stdout",
          "text": [
            "<class 'pandas.core.frame.DataFrame'>\n",
            "RangeIndex: 10954 entries, 0 to 10953\n",
            "Data columns (total 2 columns):\n",
            " #   Column  Non-Null Count  Dtype         \n",
            "---  ------  --------------  -----         \n",
            " 0   DATE    10954 non-null  datetime64[ns]\n",
            " 1   TAVG    10954 non-null  float64       \n",
            "dtypes: datetime64[ns](1), float64(1)\n",
            "memory usage: 171.3 KB\n"
          ]
        }
      ]
    },
    {
      "cell_type": "code",
      "source": [
        "df_baru.isnull().sum()"
      ],
      "metadata": {
        "colab": {
          "base_uri": "https://localhost:8080/"
        },
        "id": "iz6ZQAkfldLD",
        "outputId": "aa28f282-639d-450f-9ea0-03eb75228e69"
      },
      "execution_count": 12,
      "outputs": [
        {
          "output_type": "execute_result",
          "data": {
            "text/plain": [
              "DATE    0\n",
              "TAVG    0\n",
              "dtype: int64"
            ]
          },
          "metadata": {},
          "execution_count": 12
        }
      ]
    },
    {
      "cell_type": "markdown",
      "source": [
        "# Data Processing"
      ],
      "metadata": {
        "id": "YSRUr9RuFc7E"
      }
    },
    {
      "cell_type": "code",
      "source": [
        "df_baru = df_baru.set_index('DATE')\n",
        "scaler = MinMaxScaler(feature_range = (0, 1))\n",
        "data_baru1 = scaler.fit_transform(df_baru)"
      ],
      "metadata": {
        "id": "jo2OdA-2DS3O"
      },
      "execution_count": 13,
      "outputs": []
    },
    {
      "cell_type": "code",
      "source": [
        "tavg_column = data_baru1[:, df_baru.columns.get_loc(\"TAVG\")]\n",
        "threshold_mae = (tavg_column.max() - tavg_column.min()) * 10 / 100\n",
        "print(f\"Nilai Mae adalah {threshold_mae}%\")"
      ],
      "metadata": {
        "colab": {
          "base_uri": "https://localhost:8080/"
        },
        "id": "YF3z4cAtEui-",
        "outputId": "0d140001-bf14-4c35-980c-71b3d6c6acad"
      },
      "execution_count": 26,
      "outputs": [
        {
          "output_type": "stream",
          "name": "stdout",
          "text": [
            "Nilai Mae adalah 0.1%\n"
          ]
        }
      ]
    },
    {
      "cell_type": "code",
      "source": [
        "plt.plot(data_baru1)"
      ],
      "metadata": {
        "colab": {
          "base_uri": "https://localhost:8080/",
          "height": 448
        },
        "id": "0VxUUnQeXCz1",
        "outputId": "3fc513b0-16b6-48c4-8e67-cc4288e2f66f"
      },
      "execution_count": 15,
      "outputs": [
        {
          "output_type": "execute_result",
          "data": {
            "text/plain": [
              "[<matplotlib.lines.Line2D at 0x7858c6ed97e0>]"
            ]
          },
          "metadata": {},
          "execution_count": 15
        },
        {
          "output_type": "display_data",
          "data": {
            "text/plain": [
              "<Figure size 640x480 with 1 Axes>"
            ],
            "image/png": "[encoded data removed]"
          },
          "metadata": {}
        }
      ]
    },
    {
      "cell_type": "markdown",
      "source": [
        "## Pemisahan data train dan data test"
      ],
      "metadata": {
        "id": "le2vphVxFlhT"
      }
    },
    {
      "cell_type": "code",
      "source": [
        "train_size = int(len(data_baru1)*0.8)\n",
        "test_size = len(data_baru1) - train_size\n",
        "X_data, y_data = data_baru1[0: train_size, :], data_baru1[train_size: len(data_baru1), :1]\n",
        "train_size, test_size"
      ],
      "metadata": {
        "colab": {
          "base_uri": "https://localhost:8080/"
        },
        "id": "sY6wybEDr9jA",
        "outputId": "6eda299e-ffe3-4915-81d3-5e8285aed8ed"
      },
      "execution_count": 16,
      "outputs": [
        {
          "output_type": "execute_result",
          "data": {
            "text/plain": [
              "(8763, 2191)"
            ]
          },
          "metadata": {},
          "execution_count": 16
        }
      ]
    },
    {
      "cell_type": "code",
      "source": [
        "def dataset(dataset, time_step=1):\n",
        "    X, Y = [], []\n",
        "    for i in range(len(dataset)-time_step-1):\n",
        "        a = dataset[i:(i+time_step), 0]\n",
        "        X.append(a)\n",
        "        Y.append(dataset[i + time_step, 0])\n",
        "    return np.array(X), np.array(Y)\n"
      ],
      "metadata": {
        "id": "w1HKEuJd3cXs"
      },
      "execution_count": 17,
      "outputs": []
    },
    {
      "cell_type": "code",
      "source": [
        "X_train, y_train = dataset(X_data, 100)\n",
        "X_test, y_test = dataset(y_data, 100)\n",
        "X_train = X_train.reshape(X_train.shape[0], X_train.shape[1], 1)\n",
        "X_test = X_test.reshape(X_test.shape[0], X_test.shape[1], 1)"
      ],
      "metadata": {
        "id": "wx5IVbSy5Hdq"
      },
      "execution_count": 18,
      "outputs": []
    },
    {
      "cell_type": "markdown",
      "source": [
        "## Pembuatan Model"
      ],
      "metadata": {
        "id": "GDtk0EHpF2kv"
      }
    },
    {
      "cell_type": "code",
      "source": [
        "model = Sequential([\n",
        "    Bidirectional(LSTM(64, return_sequences=True), input_shape=(100, 1)),\n",
        "    Dropout(0.1),\n",
        "    Bidirectional(LSTM(64)),\n",
        "    Dropout(0.1),\n",
        "    Dense(30, activation=\"relu\"),\n",
        "    Dense(10, activation=\"relu\"),\n",
        "    Dense(1),\n",
        "])\n"
      ],
      "metadata": {
        "id": "Tg6pXxVEdCqj"
      },
      "execution_count": 19,
      "outputs": []
    },
    {
      "cell_type": "markdown",
      "source": [
        "# Testing Data"
      ],
      "metadata": {
        "id": "ClCPy-ovFyr4"
      }
    },
    {
      "cell_type": "code",
      "source": [
        "early_stopping = EarlyStopping(monitor='val_loss', patience=3, restore_best_weights=True)"
      ],
      "metadata": {
        "id": "sfNK1__R9eM0"
      },
      "execution_count": 20,
      "outputs": []
    },
    {
      "cell_type": "code",
      "source": [
        "optimizer = tf.keras.optimizers.SGD(learning_rate=1.0000e-04, momentum=0.9)\n",
        "model.compile(optimizer='adam', loss=tf.keras.losses.Huber(), metrics=['mae'])\n",
        "\n",
        "history = model.fit(X_train, y_train, validation_data=(X_test, y_test), epochs=20, batch_size=128, verbose=1, callbacks=early_stopping)"
      ],
      "metadata": {
        "colab": {
          "base_uri": "https://localhost:8080/"
        },
        "id": "eCKs8w8idHct",
        "outputId": "10eb8cef-4c28-4c36-efbb-995df6f4fbd2"
      },
      "execution_count": 21,
      "outputs": [
        {
          "output_type": "stream",
          "name": "stdout",
          "text": [
            "Epoch 1/20\n",
            "68/68 [==============================] - 76s 979ms/step - loss: 0.1561 - mae: 0.5175 - val_loss: 0.0131 - val_mae: 0.1377\n",
            "Epoch 2/20\n",
            "68/68 [==============================] - 48s 701ms/step - loss: 0.0151 - mae: 0.1452 - val_loss: 0.0131 - val_mae: 0.1374\n",
            "Epoch 3/20\n",
            "68/68 [==============================] - 50s 734ms/step - loss: 0.0136 - mae: 0.1374 - val_loss: 0.0086 - val_mae: 0.1074\n",
            "Epoch 4/20\n",
            "68/68 [==============================] - 46s 680ms/step - loss: 0.0052 - mae: 0.0797 - val_loss: 0.0034 - val_mae: 0.0662\n",
            "Epoch 5/20\n",
            "68/68 [==============================] - 48s 706ms/step - loss: 0.0034 - mae: 0.0653 - val_loss: 0.0025 - val_mae: 0.0564\n",
            "Epoch 6/20\n",
            "68/68 [==============================] - 48s 714ms/step - loss: 0.0030 - mae: 0.0614 - val_loss: 0.0029 - val_mae: 0.0613\n",
            "Epoch 7/20\n",
            "68/68 [==============================] - 49s 727ms/step - loss: 0.0029 - mae: 0.0605 - val_loss: 0.0023 - val_mae: 0.0550\n",
            "Epoch 8/20\n",
            "68/68 [==============================] - 49s 717ms/step - loss: 0.0026 - mae: 0.0570 - val_loss: 0.0020 - val_mae: 0.0508\n",
            "Epoch 9/20\n",
            "68/68 [==============================] - 50s 726ms/step - loss: 0.0025 - mae: 0.0556 - val_loss: 0.0018 - val_mae: 0.0483\n",
            "Epoch 10/20\n",
            "68/68 [==============================] - 49s 722ms/step - loss: 0.0023 - mae: 0.0540 - val_loss: 0.0023 - val_mae: 0.0545\n",
            "Epoch 11/20\n",
            "68/68 [==============================] - 49s 724ms/step - loss: 0.0022 - mae: 0.0525 - val_loss: 0.0018 - val_mae: 0.0481\n",
            "Epoch 12/20\n",
            "68/68 [==============================] - 50s 734ms/step - loss: 0.0021 - mae: 0.0519 - val_loss: 0.0016 - val_mae: 0.0459\n",
            "Epoch 13/20\n",
            "68/68 [==============================] - 52s 772ms/step - loss: 0.0021 - mae: 0.0509 - val_loss: 0.0016 - val_mae: 0.0447\n",
            "Epoch 14/20\n",
            "68/68 [==============================] - 49s 716ms/step - loss: 0.0020 - mae: 0.0501 - val_loss: 0.0016 - val_mae: 0.0457\n",
            "Epoch 15/20\n",
            "68/68 [==============================] - 50s 733ms/step - loss: 0.0019 - mae: 0.0494 - val_loss: 0.0015 - val_mae: 0.0444\n",
            "Epoch 16/20\n",
            "68/68 [==============================] - 46s 682ms/step - loss: 0.0021 - mae: 0.0508 - val_loss: 0.0017 - val_mae: 0.0471\n",
            "Epoch 17/20\n",
            "68/68 [==============================] - 50s 732ms/step - loss: 0.0020 - mae: 0.0495 - val_loss: 0.0016 - val_mae: 0.0452\n",
            "Epoch 18/20\n",
            "68/68 [==============================] - 48s 713ms/step - loss: 0.0019 - mae: 0.0487 - val_loss: 0.0017 - val_mae: 0.0459\n"
          ]
        }
      ]
    },
    {
      "cell_type": "code",
      "source": [
        "loss = history.history['loss']\n",
        "val_loss = history.history['val_loss']\n",
        "mae = history.history['mae']\n",
        "val_mae = history.history['val_mae']"
      ],
      "metadata": {
        "id": "Iy_iEOqYPUyL"
      },
      "execution_count": 22,
      "outputs": []
    },
    {
      "cell_type": "code",
      "source": [
        "plt.plot(loss)\n",
        "plt.plot(val_loss)\n",
        "plt.title('Model Loss')\n",
        "plt.ylabel('loss')\n",
        "plt.xlabel('epoch')\n",
        "plt.legend(['train', 'test'], loc='upper left')\n",
        "plt.show()"
      ],
      "metadata": {
        "colab": {
          "base_uri": "https://localhost:8080/",
          "height": 472
        },
        "id": "3szwmOGYPMYG",
        "outputId": "23a93889-6f79-423f-d32b-e8e1fc4f466f"
      },
      "execution_count": 23,
      "outputs": [
        {
          "output_type": "display_data",
          "data": {
            "text/plain": [
              "<Figure size 640x480 with 1 Axes>"
            ],
            "image/png": "[encoded data removed]"
          },
          "metadata": {}
        }
      ]
    },
    {
      "cell_type": "code",
      "source": [
        "plt.plot(mae)\n",
        "plt.plot(val_mae)\n",
        "plt.title('Model mae')\n",
        "plt.ylabel('mae')\n",
        "plt.xlabel('epoch')\n",
        "plt.legend(['train', 'test'], loc='upper left')\n",
        "plt.show()"
      ],
      "metadata": {
        "colab": {
          "base_uri": "https://localhost:8080/",
          "height": 472
        },
        "id": "OM2IavGoPjti",
        "outputId": "194af9f9-f482-492b-e69c-58b9e7f5b4bd"
      },
      "execution_count": 24,
      "outputs": [
        {
          "output_type": "display_data",
          "data": {
            "text/plain": [
              "<Figure size 640x480 with 1 Axes>"
            ],
            "image/png": "[encoded data removed]"
          },
          "metadata": {}
        }
      ]
    }
  ]
}